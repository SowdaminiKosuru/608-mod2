{
 "cells": [
  {
   "cell_type": "code",
   "execution_count": 1,
   "id": "13e0042e-ea58-498a-8fa9-580303af0ba6",
   "metadata": {},
   "outputs": [
    {
     "data": {
      "text/plain": [
       "\" Sowdamini's Work for Chapter - 3\""
      ]
     },
     "execution_count": 1,
     "metadata": {},
     "output_type": "execute_result"
    }
   ],
   "source": [
    "''' Sowdamini's Work for Chapter - 3'''"
   ]
  },
  {
   "cell_type": "code",
   "execution_count": 2,
   "id": "dce052f6-6e79-4e7b-b72c-26d62f166ff3",
   "metadata": {},
   "outputs": [
    {
     "name": "stdin",
     "output_type": "stream",
     "text": [
      "Enter first integer:  5\n",
      "Enter second integer:  10\n"
     ]
    },
    {
     "name": "stdout",
     "output_type": "stream",
     "text": [
      "The sum of 5 and 10 is 15\n"
     ]
    }
   ],
   "source": [
    "#Self Check 3.3\n",
    "\n",
    "number1 = int(input('Enter first integer: '))\n",
    "number2 = int(input('Enter second integer: '))\n",
    "total = number1 + number2\n",
    "print('The sum of', number1, 'and', number2, 'is', total)"
   ]
  },
  {
   "cell_type": "code",
   "execution_count": 3,
   "id": "70d840c2-5b2b-45b1-86c4-349591d468cf",
   "metadata": {},
   "outputs": [
    {
     "name": "stdout",
     "output_type": "stream",
     "text": [
      "Passed\n"
     ]
    }
   ],
   "source": [
    "#Self Check 3.5\n",
    "grade = 85\n",
    "if grade >= 60:\n",
    "    print('Passed')"
   ]
  },
  {
   "cell_type": "code",
   "execution_count": 4,
   "id": "90032d3e-ce1e-4812-aecd-4fe64d86c774",
   "metadata": {},
   "outputs": [
    {
     "name": "stdout",
     "output_type": "stream",
     "text": [
      "Fail\n"
     ]
    }
   ],
   "source": [
    "#Self Check 3.5\n",
    "grade = 55\n",
    "if grade >= 60:\n",
    "    print('Passed')\n",
    "else:\n",
    "    print('Fail')"
   ]
  },
  {
   "cell_type": "code",
   "execution_count": null,
   "id": "7f35442e-d0f5-4ccd-8c36-2c0141c821d6",
   "metadata": {},
   "outputs": [],
   "source": []
  },
  {
   "cell_type": "code",
   "execution_count": 5,
   "id": "c9e9785a-d016-48b0-835f-68f77fe61eba",
   "metadata": {},
   "outputs": [
    {
     "name": "stdout",
     "output_type": "stream",
     "text": [
      "2401\n"
     ]
    }
   ],
   "source": [
    "#Self Check 3.7\n",
    "product = 7\n",
    "while product <= 1000:\n",
    "    product = product * 7\n",
    "print(product)"
   ]
  },
  {
   "cell_type": "code",
   "execution_count": 6,
   "id": "f7937d86-e6fa-41ad-ac39-e0ae26363058",
   "metadata": {},
   "outputs": [
    {
     "name": "stdout",
     "output_type": "stream",
     "text": [
      "P r o g r a m m i n g "
     ]
    }
   ],
   "source": [
    "for character in 'Programming':\n",
    "    print(character, end=' ')"
   ]
  },
  {
   "cell_type": "code",
   "execution_count": 7,
   "id": "56222d12-f632-47ab-8c20-5fa884b1a924",
   "metadata": {},
   "outputs": [
    {
     "name": "stdout",
     "output_type": "stream",
     "text": [
      "10, 20, 30\n"
     ]
    }
   ],
   "source": [
    "print(10, 20, 30, sep=', ')"
   ]
  },
  {
   "cell_type": "code",
   "execution_count": 8,
   "id": "31784e01-b97d-4d44-99ca-5333d20d37ef",
   "metadata": {},
   "outputs": [
    {
     "name": "stdout",
     "output_type": "stream",
     "text": [
      "Total is 25\n"
     ]
    }
   ],
   "source": [
    "total = 0\n",
    "for number in [2, -3, 0, 17, 9]:\n",
    "    total = total + number\n",
    "print(\"Total is\",total)"
   ]
  },
  {
   "cell_type": "code",
   "execution_count": 9,
   "id": "224011f9-ffbf-48c8-85fc-af5e422d4401",
   "metadata": {},
   "outputs": [
    {
     "name": "stdout",
     "output_type": "stream",
     "text": [
      "Total is 25\n"
     ]
    }
   ],
   "source": [
    "total = 0\n",
    "for number in [2, -3, 0, 17, 9]:\n",
    "    total += number\n",
    "print(\"Total is\",total)"
   ]
  },
  {
   "cell_type": "code",
   "execution_count": 10,
   "id": "8b291247-b279-499b-af4b-28bcd0dbdcfc",
   "metadata": {},
   "outputs": [
    {
     "name": "stdout",
     "output_type": "stream",
     "text": [
      "0 1 2 3 4 5 6 7 8 9 10 11 12 13 14 15 16 17 18 19 20 21 22 23 24 25 26 27 28 29 30 31 32 33 34 35 36 37 38 39 40 41 42 43 44 45 46 47 48 49 50 51 52 53 54 55 56 57 58 59 60 61 62 63 64 65 66 67 68 69 70 71 72 73 74 75 76 77 78 79 80 81 82 83 84 85 86 87 88 89 90 91 92 93 94 95 96 97 98 99 "
     ]
    }
   ],
   "source": [
    "for counter in range(100):\n",
    "    print(counter, end=' ')"
   ]
  },
  {
   "cell_type": "code",
   "execution_count": 11,
   "id": "ce76200b-06f1-46ce-88b1-39a00fa8b79d",
   "metadata": {},
   "outputs": [
    {
     "name": "stdout",
     "output_type": "stream",
     "text": [
      "500000500000\n"
     ]
    }
   ],
   "source": [
    "#Self Check 3.8\n",
    "total = 0\n",
    "for number in range(1000001):\n",
    "    total = total + number\n",
    "print(total)"
   ]
  },
  {
   "cell_type": "code",
   "execution_count": 12,
   "id": "99172064-c945-4b79-ba01-61f9b418085f",
   "metadata": {},
   "outputs": [
    {
     "name": "stdout",
     "output_type": "stream",
     "text": [
      "Class average is 81.7\n"
     ]
    }
   ],
   "source": [
    "\"\"\"Class average program with sequencecontrolled repetition.\"\"\"\n",
    "#initialization phase\n",
    "total = 0 # sum of grades\n",
    "grade_counter = 0\n",
    "grades = [98, 76, 71, 87, 83, 90, 57, 79, 82,94] # list of 10 grades\n",
    "#processing phase\n",
    "for grade in grades:\n",
    "    total += grade # add current grade to the running total\n",
    "    grade_counter += 1 # indicate that one more grade was processed\n",
    "#termination phase\n",
    "average = total / grade_counter\n",
    "print(f'Class average is {average}')"
   ]
  },
  {
   "cell_type": "code",
   "execution_count": 13,
   "id": "b7c8c9bf-18cf-4951-a4fc-3aa755fcbfab",
   "metadata": {},
   "outputs": [
    {
     "name": "stdout",
     "output_type": "stream",
     "text": [
      "Senior female\n"
     ]
    }
   ],
   "source": [
    "gender = 'Female'\n",
    "age = 70\n",
    "if gender == 'Female' and age >= 65:\n",
    "    print('Senior female')"
   ]
  },
  {
   "cell_type": "code",
   "execution_count": 14,
   "id": "84eb6dc1-5142-4edc-826a-2aa96bc82096",
   "metadata": {},
   "outputs": [
    {
     "name": "stdout",
     "output_type": "stream",
     "text": [
      "0 2 4 6 8 "
     ]
    }
   ],
   "source": [
    "#Self Check 3.13\n",
    "for number in range(0, 10, 2):\n",
    "    print(number, end=' ')"
   ]
  },
  {
   "cell_type": "code",
   "execution_count": 15,
   "id": "98c305c5-2541-4f99-88f9-247d41db0ddf",
   "metadata": {},
   "outputs": [
    {
     "data": {
      "text/plain": [
       "144"
      ]
     },
     "execution_count": 15,
     "metadata": {},
     "output_type": "execute_result"
    }
   ],
   "source": [
    "#Self Check 3.9\n",
    "x = 12\n",
    "x **= 2\n",
    "x"
   ]
  },
  {
   "cell_type": "code",
   "execution_count": 16,
   "id": "b5d06765-78ab-404d-a169-555380da4812",
   "metadata": {},
   "outputs": [
    {
     "name": "stdout",
     "output_type": "stream",
     "text": [
      "7 times 5 is 35\n"
     ]
    }
   ],
   "source": [
    "#Self Check 3.10\n",
    "\n",
    "number1 = 7\n",
    "number2 = 5\n",
    "print(f'{number1} times {number2} is {number1 * number2}')"
   ]
  },
  {
   "cell_type": "code",
   "execution_count": 17,
   "id": "279969a6-95b8-4a5f-9e05-1c1658325f43",
   "metadata": {},
   "outputs": [
    {
     "name": "stdout",
     "output_type": "stream",
     "text": [
      "10 8 6 4 2 "
     ]
    }
   ],
   "source": [
    "#Self check 3.13\n",
    "for number in range(10, 0, -2):\n",
    "    print(number, end=' ')"
   ]
  },
  {
   "cell_type": "code",
   "execution_count": 18,
   "id": "040f20b1-a071-4d7c-8d57-cc49cf5e44d5",
   "metadata": {},
   "outputs": [
    {
     "name": "stdin",
     "output_type": "stream",
     "text": [
      "Enter an integer:  23\n"
     ]
    },
    {
     "name": "stdout",
     "output_type": "stream",
     "text": [
      "23 is odd\n"
     ]
    },
    {
     "name": "stdin",
     "output_type": "stream",
     "text": [
      "Enter an integer:  45\n"
     ]
    },
    {
     "name": "stdout",
     "output_type": "stream",
     "text": [
      "45 is odd\n"
     ]
    }
   ],
   "source": [
    " # Self Check 3.12\n",
    "for count in range(2):\n",
    "    value = int(input('Enter an integer: '))\n",
    "    if value % 2 == 0:\n",
    "        print(f'{value} is even')\n",
    "    else:\n",
    "        print(f'{value} is odd')"
   ]
  },
  {
   "cell_type": "code",
   "execution_count": 19,
   "id": "595f33a5-2f58-4423-bf22-988c6a708e98",
   "metadata": {},
   "outputs": [
    {
     "name": "stdout",
     "output_type": "stream",
     "text": [
      "2550\n"
     ]
    }
   ],
   "source": [
    " # Self Check 3.13\n",
    "total = 0\n",
    "for number in range(2, 101, 2):\n",
    "    total += number\n",
    "print(total)"
   ]
  },
  {
   "cell_type": "code",
   "execution_count": 20,
   "id": "b326e546-695e-436d-9bbd-015e8270ae17",
   "metadata": {},
   "outputs": [
    {
     "name": "stdout",
     "output_type": "stream",
     "text": [
      "39.79\n"
     ]
    }
   ],
   "source": [
    " # Self Check 3.14\n",
    "from decimal import Decimal\n",
    "print(f\"{Decimal('37.45') * Decimal('1.0625'):.2f}\")"
   ]
  },
  {
   "cell_type": "code",
   "execution_count": 21,
   "id": "527f17e6-a17d-4914-802b-e9b5ecd028b8",
   "metadata": {},
   "outputs": [
    {
     "data": {
      "text/plain": [
       "Decimal('20000.000')"
      ]
     },
     "execution_count": 21,
     "metadata": {},
     "output_type": "execute_result"
    }
   ],
   "source": [
    "from decimal import Decimal\n",
    "principal = Decimal('20000.000')\n",
    "principal"
   ]
  },
  {
   "cell_type": "code",
   "execution_count": 22,
   "id": "119a85c3-e532-4cc6-8f7f-fb717f7cf7d2",
   "metadata": {},
   "outputs": [
    {
     "data": {
      "text/plain": [
       "Decimal('0.05')"
      ]
     },
     "execution_count": 22,
     "metadata": {},
     "output_type": "execute_result"
    }
   ],
   "source": [
    "rate = Decimal('0.05')\n",
    "rate"
   ]
  },
  {
   "cell_type": "code",
   "execution_count": 23,
   "id": "be707488-b182-4246-92fa-a4738fce1cfe",
   "metadata": {},
   "outputs": [
    {
     "name": "stdout",
     "output_type": "stream",
     "text": [
      "1  21000.00\n",
      "2  22050.00\n",
      "3  23152.50\n",
      "4  24310.12\n",
      "5  25525.63\n",
      "6  26801.91\n",
      "7  28142.01\n",
      "8  29549.11\n",
      "9  31026.56\n",
      "10  32577.89\n"
     ]
    }
   ],
   "source": [
    "for year in range(1, 11):\n",
    "    amount = principal * (1 + rate) ** year\n",
    "    print(f'{year:>1}{amount:>10.2f}')"
   ]
  },
  {
   "cell_type": "code",
   "execution_count": 24,
   "id": "20f3ee8e-8023-4e1f-81e6-944ddc7a5fe3",
   "metadata": {},
   "outputs": [],
   "source": [
    "for num1 in range(1000):\n",
    "    if(num1/10==0):\n",
    "        break\n",
    "    print(num1, end=', ')"
   ]
  },
  {
   "cell_type": "code",
   "execution_count": 25,
   "id": "f7468d2b-b260-4026-8fad-d32d3405647c",
   "metadata": {},
   "outputs": [
    {
     "name": "stdout",
     "output_type": "stream",
     "text": [
      "1, 2, 3, 4, 5, 6, 7, 8, 9, 10, 11, 12, 13, 14, 15, 16, 17, 18, 19, 20, 21, 22, 23, 24, 25, 26, 27, 28, 29, 30, 31, 32, 33, 34, 35, 36, 37, 38, 39, 40, 41, 42, 43, 44, 45, 46, 47, 48, 49, 50, 51, 52, 53, 54, 55, 56, 57, 58, 59, 60, 61, 62, 63, 64, 65, 66, 67, 68, 69, 70, 71, 72, 73, 74, 75, 76, 77, 78, 79, 80, 81, 82, 83, 84, 85, 86, 87, 88, 89, 90, 91, 92, 93, 94, 95, 96, 97, 98, 99, "
     ]
    }
   ],
   "source": [
    "for num2 in range(100):\n",
    "    if(num2/2==0):\n",
    "        continue\n",
    "    print(num2, end=', ')"
   ]
  },
  {
   "cell_type": "code",
   "execution_count": 26,
   "id": "2af99171-0086-43d9-ae68-0694f3f33219",
   "metadata": {},
   "outputs": [
    {
     "name": "stdout",
     "output_type": "stream",
     "text": [
      "Senior female\n"
     ]
    }
   ],
   "source": [
    "gender = 'Female'\n",
    "age = 70\n",
    "if gender == 'Female' and age >= 65:\n",
    "    print('Senior female')"
   ]
  },
  {
   "cell_type": "code",
   "execution_count": 27,
   "id": "2d8733a3-eb49-4603-92db-03b6cf6c05ba",
   "metadata": {},
   "outputs": [],
   "source": [
    " i = 1; j = 2; k = 3; m = 2"
   ]
  },
  {
   "cell_type": "code",
   "execution_count": 28,
   "id": "57a9e529-46fc-4ed1-8e63-b4666e3fac8f",
   "metadata": {},
   "outputs": [
    {
     "data": {
      "text/plain": [
       "True"
      ]
     },
     "execution_count": 28,
     "metadata": {},
     "output_type": "execute_result"
    }
   ],
   "source": [
    "(i >= 1) and (j < 4)"
   ]
  },
  {
   "cell_type": "code",
   "execution_count": 29,
   "id": "c3e89a72-bcb3-419d-ace1-8428074c9627",
   "metadata": {},
   "outputs": [
    {
     "data": {
      "text/plain": [
       "False"
      ]
     },
     "execution_count": 29,
     "metadata": {},
     "output_type": "execute_result"
    }
   ],
   "source": [
    "(m <= 99) and (k < m)"
   ]
  },
  {
   "cell_type": "code",
   "execution_count": 30,
   "id": "e20e0cc3-69fa-4085-90ae-b22600134c38",
   "metadata": {},
   "outputs": [
    {
     "data": {
      "text/plain": [
       "True"
      ]
     },
     "execution_count": 30,
     "metadata": {},
     "output_type": "execute_result"
    }
   ],
   "source": [
    "(j >= i) or (k == m)"
   ]
  },
  {
   "cell_type": "code",
   "execution_count": 31,
   "id": "fbdd1324-6a60-4e49-99c0-fa0ffedbbced",
   "metadata": {},
   "outputs": [
    {
     "data": {
      "text/plain": [
       "False"
      ]
     },
     "execution_count": 31,
     "metadata": {},
     "output_type": "execute_result"
    }
   ],
   "source": [
    "(k + m < j) or (3 - j >= k)"
   ]
  },
  {
   "cell_type": "code",
   "execution_count": 32,
   "id": "de36485c-c941-4b01-964a-3ae44c338a7b",
   "metadata": {},
   "outputs": [
    {
     "data": {
      "text/plain": [
       "False"
      ]
     },
     "execution_count": 32,
     "metadata": {},
     "output_type": "execute_result"
    }
   ],
   "source": [
    " not (k > m)"
   ]
  },
  {
   "cell_type": "code",
   "execution_count": 33,
   "id": "badadacd-b824-4515-9275-67f318da9f3e",
   "metadata": {},
   "outputs": [
    {
     "data": {
      "text/plain": [
       "51.5"
      ]
     },
     "execution_count": 33,
     "metadata": {},
     "output_type": "execute_result"
    }
   ],
   "source": [
    "import statistics\n",
    "grades = [21,45,78,12,67,90,43,56]\n",
    "\n",
    "statistics.mean(grades)"
   ]
  },
  {
   "cell_type": "code",
   "execution_count": 34,
   "id": "66170c05-2abc-490d-a683-7cc8b5ce417b",
   "metadata": {},
   "outputs": [
    {
     "data": {
      "text/plain": [
       "[12, 21, 43, 45, 56, 67, 78, 90]"
      ]
     },
     "execution_count": 34,
     "metadata": {},
     "output_type": "execute_result"
    }
   ],
   "source": [
    "sorted(grades)"
   ]
  },
  {
   "cell_type": "code",
   "execution_count": 35,
   "id": "651e7700-cc08-4603-b704-4cc604e3348b",
   "metadata": {},
   "outputs": [
    {
     "data": {
      "text/plain": [
       "79.16666666666667"
      ]
     },
     "execution_count": 35,
     "metadata": {},
     "output_type": "execute_result"
    }
   ],
   "source": [
    " #self check 3.17\n",
    "values = [47, 95, 88, 73, 88, 84]\n",
    "statistics.mean(values)"
   ]
  },
  {
   "cell_type": "code",
   "execution_count": 36,
   "id": "8519a9a5-2383-4862-9244-bf54f52b5c8b",
   "metadata": {},
   "outputs": [
    {
     "data": {
      "text/plain": [
       "88"
      ]
     },
     "execution_count": 36,
     "metadata": {},
     "output_type": "execute_result"
    }
   ],
   "source": [
    "statistics.mode(values)"
   ]
  },
  {
   "cell_type": "code",
   "execution_count": 37,
   "id": "c0352c1b-a0b6-4dde-9947-27b9aa852868",
   "metadata": {},
   "outputs": [
    {
     "data": {
      "text/plain": [
       "86.0"
      ]
     },
     "execution_count": 37,
     "metadata": {},
     "output_type": "execute_result"
    }
   ],
   "source": [
    "statistics.median(values)"
   ]
  },
  {
   "cell_type": "code",
   "execution_count": 38,
   "id": "18d25568-2bdd-438c-9c64-c0f95433c3b1",
   "metadata": {},
   "outputs": [
    {
     "name": "stdout",
     "output_type": "stream",
     "text": [
      "Count : 9\n",
      "Sum : 211\n",
      "Mean : 23.444444444444443\n"
     ]
    }
   ],
   "source": [
    "#Central Tendency Native Python\n",
    "\n",
    "val1 = [9, 11, 22, 34, 17, 22, 34, 22 , 40]\n",
    "\n",
    "print('Count :',len(val1))\n",
    "print('Sum :',sum(val1))\n",
    "print('Mean :',sum(val1)/len(val1))"
   ]
  },
  {
   "cell_type": "code",
   "execution_count": 39,
   "id": "80c29d30-dfed-4b53-8243-4345a28488d8",
   "metadata": {},
   "outputs": [
    {
     "name": "stdout",
     "output_type": "stream",
     "text": [
      "Mean : 24.5\n",
      "Median : 22.0\n",
      "Mode : 22\n"
     ]
    }
   ],
   "source": [
    "#Central Tendency - with Statistic Module\n",
    "\n",
    "val2 = [9, 11, 22, 34, 17, 22, 34, 22 , 40, 34]\n",
    "\n",
    "print('Mean :',statistics.mean(val2))\n",
    "print('Median :',statistics.median(val2))\n",
    "print('Mode :',statistics.mode(val2))"
   ]
  },
  {
   "cell_type": "code",
   "execution_count": 40,
   "id": "9bd6bd30-74dc-4b02-9113-bd32b5fd45e8",
   "metadata": {},
   "outputs": [
    {
     "name": "stdout",
     "output_type": "stream",
     "text": [
      "Count : 13\n",
      "Sum : 574\n",
      "Mean : 44.15384615384615\n",
      "Median : 34\n",
      "Mode : 22\n"
     ]
    }
   ],
   "source": [
    "#Custom Central Tendency \n",
    "\n",
    "'''Sowdamini's Work'''\n",
    "\n",
    "val3 = [9, 11, 22, 14, 17, 22, 84, 92 , 40, 34, 99, 43, 87]\n",
    "\n",
    "print('Count :',len(val3))\n",
    "print('Sum :',sum(val3))\n",
    "print('Mean :',statistics.mean(val3))\n",
    "print('Median :',statistics.median(val3))\n",
    "print('Mode :',statistics.mode(val3))"
   ]
  },
  {
   "cell_type": "code",
   "execution_count": null,
   "id": "e473ee20-d757-440c-9985-dd81d1e2167c",
   "metadata": {},
   "outputs": [],
   "source": []
  },
  {
   "cell_type": "code",
   "execution_count": null,
   "id": "34be73f0-d9ef-4dca-85cf-df35f4ed48fa",
   "metadata": {},
   "outputs": [],
   "source": []
  },
  {
   "cell_type": "code",
   "execution_count": null,
   "id": "cbae587f-27f7-413f-adb4-3f1bb486474e",
   "metadata": {},
   "outputs": [],
   "source": []
  },
  {
   "cell_type": "code",
   "execution_count": null,
   "id": "a56d53c3-abf0-413e-8fb8-16cdfd6acd5d",
   "metadata": {},
   "outputs": [],
   "source": []
  },
  {
   "cell_type": "code",
   "execution_count": null,
   "id": "8fe38381-c7be-4e95-8612-521ba7e1f3be",
   "metadata": {},
   "outputs": [],
   "source": []
  }
 ],
 "metadata": {
  "kernelspec": {
   "display_name": "Python 3 (ipykernel)",
   "language": "python",
   "name": "python3"
  },
  "language_info": {
   "codemirror_mode": {
    "name": "ipython",
    "version": 3
   },
   "file_extension": ".py",
   "mimetype": "text/x-python",
   "name": "python",
   "nbconvert_exporter": "python",
   "pygments_lexer": "ipython3",
   "version": "3.9.12"
  }
 },
 "nbformat": 4,
 "nbformat_minor": 5
}
